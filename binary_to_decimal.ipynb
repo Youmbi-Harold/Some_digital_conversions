{
 "cells": [
  {
   "cell_type": "code",
   "execution_count": 12,
   "id": "366f329c",
   "metadata": {},
   "outputs": [
    {
     "name": "stdout",
     "output_type": "stream",
     "text": [
      "Please enter a Binary number : 0101\n",
      "The decimal equivalence is 5\n"
     ]
    }
   ],
   "source": [
    "binary = input(\"Please enter a Binary number : \")\n",
    "decimal = 0\n",
    "length = len(binary)\n",
    "for i in binary:#looping through the string in binary variable\n",
    "    \n",
    "    length = length-1 #takes the lenght of string and decrements it after each iteration\n",
    "    decimal += (2**length)*int(i) #computation\n",
    "print(f'The decimal equivalence is {decimal}')"
   ]
  },
  {
   "cell_type": "code",
   "execution_count": null,
   "id": "21b51317",
   "metadata": {},
   "outputs": [],
   "source": []
  }
 ],
 "metadata": {
  "kernelspec": {
   "display_name": "Python 3.8.5 64-bit",
   "language": "python",
   "name": "python385jvsc74a57bd066bccaa44e2aab93a1476cb08bc145cbbb2ba14adb8b52a5fd371d1d4c4b1abb"
  },
  "language_info": {
   "codemirror_mode": {
    "name": "ipython",
    "version": 3
   },
   "file_extension": ".py",
   "mimetype": "text/x-python",
   "name": "python",
   "nbconvert_exporter": "python",
   "pygments_lexer": "ipython3",
   "version": "3.8.5"
  }
 },
 "nbformat": 4,
 "nbformat_minor": 5
}
