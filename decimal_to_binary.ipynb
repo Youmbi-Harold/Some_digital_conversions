{
 "cells": [
  {
   "cell_type": "code",
   "execution_count": 16,
   "id": "6496987b",
   "metadata": {},
   "outputs": [
    {
     "name": "stdout",
     "output_type": "stream",
     "text": [
      "Please enter a decimal number : 100\n",
      "50|0\n",
      "25|0\n",
      "12|1\n",
      "6|0\n",
      "3|0\n",
      "1|1\n",
      "0|1\n"
     ]
    }
   ],
   "source": [
    "decimal = int(input(\"Please enter a decimal number : \"))\n",
    "while decimal > 0:\n",
    "    remainder = decimal%2\n",
    "    decimal = decimal//2\n",
    "     \n",
    "   \n",
    "    print(f'{decimal}|{remainder}')"
   ]
  },
  {
   "cell_type": "code",
   "execution_count": null,
   "id": "0a7732c3",
   "metadata": {},
   "outputs": [],
   "source": []
  }
 ],
 "metadata": {
  "kernelspec": {
   "display_name": "Python 3.8.5 64-bit",
   "language": "python",
   "name": "python385jvsc74a57bd066bccaa44e2aab93a1476cb08bc145cbbb2ba14adb8b52a5fd371d1d4c4b1abb"
  },
  "language_info": {
   "codemirror_mode": {
    "name": "ipython",
    "version": 3
   },
   "file_extension": ".py",
   "mimetype": "text/x-python",
   "name": "python",
   "nbconvert_exporter": "python",
   "pygments_lexer": "ipython3",
   "version": "3.8.5"
  }
 },
 "nbformat": 4,
 "nbformat_minor": 5
}
